{
 "cells": [
  {
   "cell_type": "markdown",
   "metadata": {},
   "source": [
    "## Billiards collisions"
   ]
  },
  {
   "cell_type": "code",
   "execution_count": 1,
   "metadata": {
    "collapsed": false
   },
   "outputs": [],
   "source": [
    "%matplotlib inline"
   ]
  },
  {
   "cell_type": "markdown",
   "metadata": {},
   "source": [
    "Bill should be placed inside thin ring which is able to move freely on the table."
   ]
  },
  {
   "cell_type": "code",
   "execution_count": 13,
   "metadata": {
    "collapsed": false
   },
   "outputs": [],
   "source": [
    "from Body import Body\n",
    "from collider import switch_to_masspoint\n",
    "\n",
    "bill = Body(1., 1, [0., 0.], [0., 1.])\n",
    "ring = Body(2., 4, [1., 1.], [0., 0.])\n",
    "\n",
    "# decide if switch to masspoint frame\n",
    "switch_to_masspoint(bill, ring)"
   ]
  },
  {
   "cell_type": "code",
   "execution_count": 14,
   "metadata": {
    "collapsed": false
   },
   "outputs": [
    {
     "name": "stdout",
     "output_type": "stream",
     "text": [
      "Pęd układu: [  0.00000000e+00   1.11022302e-16]\nRadius: 2.55228474983\nRadius: 2.40077897597\nRadius: 1.37939889347\nRadius: 2.94264448185\nRadius: 1.41780664044\nRadius: 2.36571755969\nRadius: 2.58199297284\nRadius: 1.18982913476\nRadius: 2.9178482913\nRadius: 1.65023442781\nRadius: 2.1523647267\nRadius: 2.73002943837\nRadius: 1.07535673216\nRadius: 2.85145982916\nRadius: 1.89165980409\nRadius: 1.91977315289\nRadius: 2.84100232107\nRadius: 1.0685694061\nRadius: 2.74503650432\nRadius: 2.12589127774\nRadius: 1.67847892805\nRadius: 2.91218970221\nRadius: 1.17174782907\nRadius: 2.60117287735\nRadius: 2.34193896258\nRadius: 1.44391627725\nRadius: 2.94191590039\nRadius: 1.35450803672\nRadius: 2.42360919242\nRadius: 2.53197057654\nRadius: 1.23950083051\nRadius: 2.92949554088\nRadius: 1.58008318797\nRadius: 2.21744765679\nRadius: 2.69021768983\nRadius: 1.09893789066\nRadius: 2.87521401428\nRadius: 1.82085099965\nRadius: 1.98957747364\nRadius: 2.81241493397\nRadius: 1.05846792216\nRadius: 2.78033538755\nRadius: 2.05852015946\nRadius: 1.74950746027\nRadius: 2.89551431379\nRadius: 1.13144024653\nRadius: 2.64714138756\nRadius: 2.28083868106\nRadius: 1.51096273455\nRadius: 2.93754056711\n"
     ]
    },
    {
     "data": {
      "image/png": "[encoded data removed]",
      "text/plain": [
       "<matplotlib.figure.Figure at 0x7fa2f253e208>"
      ]
     },
     "metadata": {},
     "output_type": "display_data"
    }
   ],
   "source": [
    "from run import run\n",
    "from ploter import plot_vs_collision\n",
    "\n",
    "pos_b, rad_b = run(bill, ring, 50)\n",
    "\n",
    "plot_vs_collision(rad_b, 51)"
   ]
  },
  {
   "cell_type": "code",
   "execution_count": null,
   "metadata": {},
   "outputs": [],
   "source": [
    ""
   ]
  }
 ],
 "metadata": {
  "kernelspec": {
   "display_name": "Python 3",
   "language": "python",
   "name": "python3"
  },
  "language_info": {
   "codemirror_mode": {
    "name": "ipython",
    "version": 3.0
   },
   "file_extension": ".py",
   "mimetype": "text/x-python",
   "name": "python",
   "nbconvert_exporter": "python",
   "pygments_lexer": "ipython3",
   "version": "3.5.1"
  }
 },
 "nbformat": 4,
 "nbformat_minor": 0
}